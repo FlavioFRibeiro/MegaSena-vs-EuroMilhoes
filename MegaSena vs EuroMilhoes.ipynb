{
 "cells": [
  {
   "cell_type": "code",
   "execution_count": 180,
   "metadata": {},
   "outputs": [
    {
     "name": "stdout",
     "output_type": "stream",
     "text": [
      "A probabilidade de se ganhar na \u001b[1;32;40m MegaSena \u001b[0m é de 0.000001997%, ou seja,\n",
      "1 em cada \u001b[1;31;42m 50 Milhões de apostas \u001b[0m\n",
      "\n",
      "A probabilidade de se ganhar na \u001b[1;32;40m Euromilhoes \u001b[0m é de 0.000000715%, ou seja, \n",
      "1 em cada \u001b[1;31;42m 139.8 Milhões de apostas\n"
     ]
    }
   ],
   "source": [
    "from scipy.stats import hypergeom\n",
    "# Define os parâmetros da distribuição hipergeométrica\n",
    "# Tamanho total da população (Números disponíveis)\n",
    "M_ms = 60\n",
    "# Total de sucessos na população (números corretos)\n",
    "n_ms = 6\n",
    "# Tamanho da amostra (número de acertos)\n",
    "N_ms = 6  \n",
    "# Calcula a probabilidade de obter exatamente 6 sucessos (números corretos) no sorteio\n",
    "prob_ms = hypergeom.pmf(6, M_ms, n_ms, N_ms)\n",
    "final_ms = (1/prob_ms)\n",
    "\n",
    "print(f\"A probabilidade de se ganhar na \\033[1;32;40m MegaSena \\033[0m é de {prob_ms * 100:.9f}%, ou seja,\\n1 em cada \\033[1;31;42m {final_ms / 1000000:.0f} Milhões de apostas \\033[0m\")\n",
    "#Aplicando o mesmo raciocínio para achar as probabilidades para a EuroMilhões\n",
    "M_em = 50\n",
    "n_em = 5\n",
    "N_em = 5\n",
    "prob_em = hypergeom.pmf(5, M_em, n_em, N_em)\n",
    "final_em = (1/prob_em)\n",
    "#Para número de \"Estrelas\"\n",
    "M_es = 12\n",
    "n_es = 2\n",
    "N_es = 2\n",
    "prob_es = hypergeom.pmf(2, M_es, n_es, N_es)\n",
    "final_es = (1/prob_es)\n",
    "#Cálculo final da probabilidade de acertar os dois sorteios e levar o 'prémio máximo'\n",
    "final_EM = 1 / (prob_em * prob_es)\n",
    "print(f\"\\nA probabilidade de se ganhar na \\033[1;32;40m Euromilhoes \\033[0m é de {(prob_em * prob_es) * 100:.9f}%, ou seja,\\n1 em cada \\033[1;31;42m {final_EM / 1000000:.1f} Milhões de apostas\")"
   ]
  }
 ],
 "metadata": {
  "kernelspec": {
   "display_name": "FlavioEnv1.0",
   "language": "python",
   "name": "python3"
  },
  "language_info": {
   "codemirror_mode": {
    "name": "ipython",
    "version": 3
   },
   "file_extension": ".py",
   "mimetype": "text/x-python",
   "name": "python",
   "nbconvert_exporter": "python",
   "pygments_lexer": "ipython3",
   "version": "3.12.0"
  }
 },
 "nbformat": 4,
 "nbformat_minor": 2
}
